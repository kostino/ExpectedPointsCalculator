{
 "cells": [
  {
   "cell_type": "code",
   "execution_count": 1,
   "metadata": {},
   "outputs": [],
   "source": [
    "import pandas as pd\n",
    "import numpy as np\n",
    "from scipy.stats import poisson\n",
    "max_g=20"
   ]
  },
  {
   "cell_type": "code",
   "execution_count": 2,
   "metadata": {},
   "outputs": [],
   "source": [
    "results=pd.read_csv(\"results.csv\")"
   ]
  },
  {
   "cell_type": "code",
   "execution_count": 3,
   "metadata": {},
   "outputs": [
    {
     "data": {
      "text/html": [
       "<div>\n",
       "<style scoped>\n",
       "    .dataframe tbody tr th:only-of-type {\n",
       "        vertical-align: middle;\n",
       "    }\n",
       "\n",
       "    .dataframe tbody tr th {\n",
       "        vertical-align: top;\n",
       "    }\n",
       "\n",
       "    .dataframe thead th {\n",
       "        text-align: right;\n",
       "    }\n",
       "</style>\n",
       "<table border=\"1\" class=\"dataframe\">\n",
       "  <thead>\n",
       "    <tr style=\"text-align: right;\">\n",
       "      <th></th>\n",
       "      <th>Wk</th>\n",
       "      <th>Day</th>\n",
       "      <th>Date</th>\n",
       "      <th>Time</th>\n",
       "      <th>Home</th>\n",
       "      <th>xG</th>\n",
       "      <th>Score</th>\n",
       "      <th>xG.1</th>\n",
       "      <th>Away</th>\n",
       "      <th>Attendance</th>\n",
       "      <th>Venue</th>\n",
       "      <th>Referee</th>\n",
       "      <th>Match Report</th>\n",
       "      <th>Notes</th>\n",
       "    </tr>\n",
       "  </thead>\n",
       "  <tbody>\n",
       "    <tr>\n",
       "      <th>0</th>\n",
       "      <td>1.0</td>\n",
       "      <td>Sat</td>\n",
       "      <td>2020-09-12</td>\n",
       "      <td>12:30 (14:30)</td>\n",
       "      <td>Fulham</td>\n",
       "      <td>0.2</td>\n",
       "      <td>0–3</td>\n",
       "      <td>1.8</td>\n",
       "      <td>Arsenal</td>\n",
       "      <td>NaN</td>\n",
       "      <td>Craven Cottage</td>\n",
       "      <td>Chris Kavanagh</td>\n",
       "      <td>Match Report</td>\n",
       "      <td>NaN</td>\n",
       "    </tr>\n",
       "    <tr>\n",
       "      <th>1</th>\n",
       "      <td>1.0</td>\n",
       "      <td>Sat</td>\n",
       "      <td>2020-09-12</td>\n",
       "      <td>15:00 (17:00)</td>\n",
       "      <td>Crystal Palace</td>\n",
       "      <td>0.7</td>\n",
       "      <td>1–0</td>\n",
       "      <td>0.8</td>\n",
       "      <td>Southampton</td>\n",
       "      <td>NaN</td>\n",
       "      <td>Selhurst Park</td>\n",
       "      <td>Jonathan Moss</td>\n",
       "      <td>Match Report</td>\n",
       "      <td>NaN</td>\n",
       "    </tr>\n",
       "    <tr>\n",
       "      <th>2</th>\n",
       "      <td>1.0</td>\n",
       "      <td>Sat</td>\n",
       "      <td>2020-09-12</td>\n",
       "      <td>17:30 (19:30)</td>\n",
       "      <td>Liverpool</td>\n",
       "      <td>3.3</td>\n",
       "      <td>4–3</td>\n",
       "      <td>0.6</td>\n",
       "      <td>Leeds United</td>\n",
       "      <td>NaN</td>\n",
       "      <td>Anfield</td>\n",
       "      <td>Michael Oliver</td>\n",
       "      <td>Match Report</td>\n",
       "      <td>NaN</td>\n",
       "    </tr>\n",
       "    <tr>\n",
       "      <th>3</th>\n",
       "      <td>1.0</td>\n",
       "      <td>Sat</td>\n",
       "      <td>2020-09-12</td>\n",
       "      <td>20:00 (22:00)</td>\n",
       "      <td>West Ham</td>\n",
       "      <td>1.1</td>\n",
       "      <td>0–2</td>\n",
       "      <td>1.5</td>\n",
       "      <td>Newcastle Utd</td>\n",
       "      <td>NaN</td>\n",
       "      <td>London Stadium</td>\n",
       "      <td>Stuart Attwell</td>\n",
       "      <td>Match Report</td>\n",
       "      <td>NaN</td>\n",
       "    </tr>\n",
       "    <tr>\n",
       "      <th>4</th>\n",
       "      <td>1.0</td>\n",
       "      <td>Sun</td>\n",
       "      <td>2020-09-13</td>\n",
       "      <td>14:00 (16:00)</td>\n",
       "      <td>West Brom</td>\n",
       "      <td>0.5</td>\n",
       "      <td>0–3</td>\n",
       "      <td>2.2</td>\n",
       "      <td>Leicester City</td>\n",
       "      <td>NaN</td>\n",
       "      <td>The Hawthorns</td>\n",
       "      <td>Anthony Taylor</td>\n",
       "      <td>Match Report</td>\n",
       "      <td>NaN</td>\n",
       "    </tr>\n",
       "  </tbody>\n",
       "</table>\n",
       "</div>"
      ],
      "text/plain": [
       "    Wk  Day        Date           Time            Home   xG Score  xG.1  \\\n",
       "0  1.0  Sat  2020-09-12  12:30 (14:30)          Fulham  0.2   0–3   1.8   \n",
       "1  1.0  Sat  2020-09-12  15:00 (17:00)  Crystal Palace  0.7   1–0   0.8   \n",
       "2  1.0  Sat  2020-09-12  17:30 (19:30)       Liverpool  3.3   4–3   0.6   \n",
       "3  1.0  Sat  2020-09-12  20:00 (22:00)        West Ham  1.1   0–2   1.5   \n",
       "4  1.0  Sun  2020-09-13  14:00 (16:00)       West Brom  0.5   0–3   2.2   \n",
       "\n",
       "             Away  Attendance           Venue         Referee  Match Report  \\\n",
       "0         Arsenal         NaN  Craven Cottage  Chris Kavanagh  Match Report   \n",
       "1     Southampton         NaN   Selhurst Park   Jonathan Moss  Match Report   \n",
       "2    Leeds United         NaN         Anfield  Michael Oliver  Match Report   \n",
       "3   Newcastle Utd         NaN  London Stadium  Stuart Attwell  Match Report   \n",
       "4  Leicester City         NaN   The Hawthorns  Anthony Taylor  Match Report   \n",
       "\n",
       "  Notes  \n",
       "0   NaN  \n",
       "1   NaN  \n",
       "2   NaN  \n",
       "3   NaN  \n",
       "4   NaN  "
      ]
     },
     "execution_count": 3,
     "metadata": {},
     "output_type": "execute_result"
    }
   ],
   "source": [
    "results.head()"
   ]
  },
  {
   "cell_type": "code",
   "execution_count": 4,
   "metadata": {},
   "outputs": [],
   "source": [
    "results=results[['Home','xG','Score','xG.1','Away']]\n",
    "results=results[results['xG'].notna()]"
   ]
  },
  {
   "cell_type": "code",
   "execution_count": 5,
   "metadata": {},
   "outputs": [
    {
     "data": {
      "text/html": [
       "<div>\n",
       "<style scoped>\n",
       "    .dataframe tbody tr th:only-of-type {\n",
       "        vertical-align: middle;\n",
       "    }\n",
       "\n",
       "    .dataframe tbody tr th {\n",
       "        vertical-align: top;\n",
       "    }\n",
       "\n",
       "    .dataframe thead th {\n",
       "        text-align: right;\n",
       "    }\n",
       "</style>\n",
       "<table border=\"1\" class=\"dataframe\">\n",
       "  <thead>\n",
       "    <tr style=\"text-align: right;\">\n",
       "      <th></th>\n",
       "      <th>Home</th>\n",
       "      <th>xG</th>\n",
       "      <th>Score</th>\n",
       "      <th>xG.1</th>\n",
       "      <th>Away</th>\n",
       "    </tr>\n",
       "  </thead>\n",
       "  <tbody>\n",
       "    <tr>\n",
       "      <th>0</th>\n",
       "      <td>Fulham</td>\n",
       "      <td>0.2</td>\n",
       "      <td>0–3</td>\n",
       "      <td>1.8</td>\n",
       "      <td>Arsenal</td>\n",
       "    </tr>\n",
       "    <tr>\n",
       "      <th>1</th>\n",
       "      <td>Crystal Palace</td>\n",
       "      <td>0.7</td>\n",
       "      <td>1–0</td>\n",
       "      <td>0.8</td>\n",
       "      <td>Southampton</td>\n",
       "    </tr>\n",
       "    <tr>\n",
       "      <th>2</th>\n",
       "      <td>Liverpool</td>\n",
       "      <td>3.3</td>\n",
       "      <td>4–3</td>\n",
       "      <td>0.6</td>\n",
       "      <td>Leeds United</td>\n",
       "    </tr>\n",
       "    <tr>\n",
       "      <th>3</th>\n",
       "      <td>West Ham</td>\n",
       "      <td>1.1</td>\n",
       "      <td>0–2</td>\n",
       "      <td>1.5</td>\n",
       "      <td>Newcastle Utd</td>\n",
       "    </tr>\n",
       "    <tr>\n",
       "      <th>4</th>\n",
       "      <td>West Brom</td>\n",
       "      <td>0.5</td>\n",
       "      <td>0–3</td>\n",
       "      <td>2.2</td>\n",
       "      <td>Leicester City</td>\n",
       "    </tr>\n",
       "  </tbody>\n",
       "</table>\n",
       "</div>"
      ],
      "text/plain": [
       "             Home   xG Score  xG.1            Away\n",
       "0          Fulham  0.2   0–3   1.8         Arsenal\n",
       "1  Crystal Palace  0.7   1–0   0.8     Southampton\n",
       "2       Liverpool  3.3   4–3   0.6    Leeds United\n",
       "3        West Ham  1.1   0–2   1.5   Newcastle Utd\n",
       "4       West Brom  0.5   0–3   2.2  Leicester City"
      ]
     },
     "execution_count": 5,
     "metadata": {},
     "output_type": "execute_result"
    }
   ],
   "source": [
    "results.head()"
   ]
  },
  {
   "cell_type": "code",
   "execution_count": 6,
   "metadata": {},
   "outputs": [],
   "source": [
    "xpoints = {team:0 for team in results['Home'].unique()}"
   ]
  },
  {
   "cell_type": "code",
   "execution_count": 7,
   "metadata": {},
   "outputs": [
    {
     "data": {
      "text/plain": [
       "{'Fulham': 0,\n",
       " 'Crystal Palace': 0,\n",
       " 'Liverpool': 0,\n",
       " 'West Ham': 0,\n",
       " 'West Brom': 0,\n",
       " 'Tottenham': 0,\n",
       " 'Sheffield Utd': 0,\n",
       " 'Brighton': 0,\n",
       " 'Everton': 0,\n",
       " 'Leeds United': 0,\n",
       " 'Manchester Utd': 0,\n",
       " 'Arsenal': 0,\n",
       " 'Southampton': 0,\n",
       " 'Newcastle Utd': 0,\n",
       " 'Chelsea': 0,\n",
       " 'Leicester City': 0,\n",
       " 'Aston Villa': 0,\n",
       " 'Wolves': 0,\n",
       " 'Burnley': 0,\n",
       " 'Manchester City': 0}"
      ]
     },
     "execution_count": 7,
     "metadata": {},
     "output_type": "execute_result"
    }
   ],
   "source": [
    "xpoints"
   ]
  },
  {
   "cell_type": "code",
   "execution_count": 8,
   "metadata": {},
   "outputs": [],
   "source": [
    "probs=np.matmul(np.array([poisson.pmf(i,0.93) for i in range(max_g)]).reshape(max_g,1),np.array([poisson.pmf(i,2.01) for i in range(max_g)]).reshape(1,max_g))"
   ]
  },
  {
   "cell_type": "code",
   "execution_count": 9,
   "metadata": {},
   "outputs": [
    {
     "data": {
      "text/plain": [
       "0.6246167695715348"
      ]
     },
     "execution_count": 9,
     "metadata": {},
     "output_type": "execute_result"
    }
   ],
   "source": [
    "np.triu(probs).sum()-np.trace(probs)"
   ]
  },
  {
   "cell_type": "code",
   "execution_count": 10,
   "metadata": {},
   "outputs": [
    {
     "data": {
      "text/plain": [
       "0.16671269794768587"
      ]
     },
     "execution_count": 10,
     "metadata": {},
     "output_type": "execute_result"
    }
   ],
   "source": [
    "np.tril(probs).sum()-np.trace(probs)"
   ]
  },
  {
   "cell_type": "code",
   "execution_count": 11,
   "metadata": {},
   "outputs": [
    {
     "data": {
      "text/plain": [
       "0.20867053248070885"
      ]
     },
     "execution_count": 11,
     "metadata": {},
     "output_type": "execute_result"
    }
   ],
   "source": [
    "np.trace(probs)"
   ]
  },
  {
   "cell_type": "code",
   "execution_count": 12,
   "metadata": {},
   "outputs": [],
   "source": [
    "for index,match in results.iterrows():\n",
    "    homeG = float(match['xG'])\n",
    "    awayG = float(match['xG.1'])\n",
    "    probs = np.matmul(np.array([poisson.pmf(i,homeG) for i in range(max_g)]).reshape(max_g,1),np.array([poisson.pmf(i,awayG) for i in range(max_g)]).reshape(1,max_g))\n",
    "    homeWP = np.tril(probs).sum()-np.trace(probs)\n",
    "    awayWP = np.triu(probs).sum()-np.trace(probs)\n",
    "    drawP = np.trace(probs)\n",
    "    homeP = homeWP*3+drawP*1\n",
    "    awayP = awayWP*3+drawP*1\n",
    "    xpoints[match['Home']]+=homeP\n",
    "    xpoints[match['Away']]+=awayP\n",
    "    "
   ]
  },
  {
   "cell_type": "code",
   "execution_count": 13,
   "metadata": {},
   "outputs": [
    {
     "data": {
      "text/plain": [
       "{'Fulham': 29.62601060236442,\n",
       " 'Crystal Palace': 25.003774186473034,\n",
       " 'Liverpool': 42.73869017313096,\n",
       " 'West Ham': 36.628608366548605,\n",
       " 'West Brom': 17.45885667459625,\n",
       " 'Tottenham': 31.394298116570596,\n",
       " 'Sheffield Utd': 23.29530946656363,\n",
       " 'Brighton': 37.90160971984598,\n",
       " 'Everton': 29.193651667381168,\n",
       " 'Leeds United': 30.55493772137935,\n",
       " 'Manchester Utd': 38.80002954669131,\n",
       " 'Arsenal': 35.87012478873377,\n",
       " 'Southampton': 27.687059599601348,\n",
       " 'Newcastle Utd': 25.604032617763284,\n",
       " 'Chelsea': 43.10471550891694,\n",
       " 'Leicester City': 38.121895132198084,\n",
       " 'Aston Villa': 34.272752491394854,\n",
       " 'Wolves': 31.434866056004626,\n",
       " 'Burnley': 24.89883414997197,\n",
       " 'Manchester City': 50.34662735546532}"
      ]
     },
     "execution_count": 13,
     "metadata": {},
     "output_type": "execute_result"
    }
   ],
   "source": [
    "xpoints"
   ]
  },
  {
   "cell_type": "code",
   "execution_count": 14,
   "metadata": {
    "scrolled": true
   },
   "outputs": [
    {
     "name": "stdout",
     "output_type": "stream",
     "text": [
      "Manchester City: 50\n",
      "Chelsea: 43\n",
      "Liverpool: 43\n",
      "Manchester Utd: 39\n",
      "Leicester City: 38\n",
      "Brighton: 38\n",
      "West Ham: 37\n",
      "Arsenal: 36\n",
      "Aston Villa: 34\n",
      "Wolves: 31\n",
      "Tottenham: 31\n",
      "Leeds United: 31\n",
      "Fulham: 30\n",
      "Everton: 29\n",
      "Southampton: 28\n",
      "Newcastle Utd: 26\n",
      "Crystal Palace: 25\n",
      "Burnley: 25\n",
      "Sheffield Utd: 23\n",
      "West Brom: 17\n"
     ]
    }
   ],
   "source": [
    "for team in sorted(xpoints, key=xpoints.get,reverse=True):\n",
    "    print('{}: {}'.format(team,round(xpoints[team])))"
   ]
  },
  {
   "cell_type": "code",
   "execution_count": 15,
   "metadata": {},
   "outputs": [
    {
     "data": {
      "text/plain": [
       "653.9366839415956"
      ]
     },
     "execution_count": 15,
     "metadata": {},
     "output_type": "execute_result"
    }
   ],
   "source": [
    "sum(xpoints.values())"
   ]
  },
  {
   "cell_type": "code",
   "execution_count": 16,
   "metadata": {},
   "outputs": [],
   "source": [
    "pltable = pd.read_csv('pltable.txt')"
   ]
  },
  {
   "cell_type": "code",
   "execution_count": 17,
   "metadata": {},
   "outputs": [
    {
     "data": {
      "text/plain": [
       "645"
      ]
     },
     "execution_count": 17,
     "metadata": {},
     "output_type": "execute_result"
    }
   ],
   "source": [
    "pltable['Pts'].sum()"
   ]
  },
  {
   "cell_type": "code",
   "execution_count": null,
   "metadata": {},
   "outputs": [],
   "source": []
  }
 ],
 "metadata": {
  "kernelspec": {
   "display_name": "Python 3",
   "language": "python",
   "name": "python3"
  },
  "language_info": {
   "codemirror_mode": {
    "name": "ipython",
    "version": 3
   },
   "file_extension": ".py",
   "mimetype": "text/x-python",
   "name": "python",
   "nbconvert_exporter": "python",
   "pygments_lexer": "ipython3",
   "version": "3.8.5"
  }
 },
 "nbformat": 4,
 "nbformat_minor": 4
}
